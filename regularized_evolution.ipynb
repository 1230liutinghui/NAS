{
  "nbformat": 4,
  "nbformat_minor": 0,
  "metadata": {
    "colab": {
      "name": "Untitled2.ipynb",
      "provenance": [],
      "authorship_tag": "ABX9TyNEUKwH5Af4T1Dob3B7g6xK",
      "include_colab_link": true
    },
    "kernelspec": {
      "name": "python3",
      "display_name": "Python 3"
    },
    "language_info": {
      "name": "python"
    }
  },
  "cells": [
    {
      "cell_type": "markdown",
      "metadata": {
        "id": "view-in-github",
        "colab_type": "text"
      },
      "source": [
        "<a href=\"https://colab.research.google.com/github/1230liutinghui/NAS/blob/main/regularized_evolution.ipynb\" target=\"_parent\"><img src=\"https://colab.research.google.com/assets/colab-badge.svg\" alt=\"Open In Colab\"/></a>"
      ]
    },
    {
      "cell_type": "markdown",
      "source": [
        "导入nasbench_only108.tfrecord"
      ],
      "metadata": {
        "id": "OcgCQktmMPbk"
      }
    },
    {
      "cell_type": "code",
      "source": [
        "%tensorflow_version 1.x\n",
        "\n",
        "!curl -O https://storage.googleapis.com/nasbench/nasbench_only108.tfrecord\n",
        "\n",
        "!git clone https://github.com/google-research/nasbench\n",
        "!pip install ./nasbench\n",
        "\n",
        "from nasbench import api\n",
        "\n",
        "# Use nasbench_full.tfrecord for full dataset (run download command above).\n",
        "nasbench = api.NASBench('nasbench_only108.tfrecord')"
      ],
      "metadata": {
        "colab": {
          "base_uri": "https://localhost:8080/"
        },
        "id": "zJ2PYcVsVNtu",
        "outputId": "a6c9c983-b960-439a-f35b-b9757f90ddca"
      },
      "execution_count": 5,
      "outputs": [
        {
          "output_type": "stream",
          "name": "stdout",
          "text": [
            "TensorFlow 1.x selected.\n",
            "  % Total    % Received % Xferd  Average Speed   Time    Time     Time  Current\n",
            "                                 Dload  Upload   Total   Spent    Left  Speed\n",
            "100  498M  100  498M    0     0   164M      0  0:00:03  0:00:03 --:--:--  164M\n",
            "fatal: destination path 'nasbench' already exists and is not an empty directory.\n",
            "Processing ./nasbench\n",
            "\u001b[33m  DEPRECATION: A future pip version will change local packages to be built in-place without first copying to a temporary directory. We recommend you use --use-feature=in-tree-build to test your packages with this new behavior before it becomes the default.\n",
            "   pip 21.3 will remove support for this functionality. You can find discussion regarding this at https://github.com/pypa/pip/issues/7555.\u001b[0m\n",
            "Requirement already satisfied: tensorflow>=1.12.0 in /tensorflow-1.15.2/python3.7 (from nasbench==1.0) (1.15.2)\n",
            "Requirement already satisfied: numpy<2.0,>=1.16.0 in /usr/local/lib/python3.7/dist-packages (from tensorflow>=1.12.0->nasbench==1.0) (1.21.6)\n",
            "Requirement already satisfied: six>=1.10.0 in /usr/local/lib/python3.7/dist-packages (from tensorflow>=1.12.0->nasbench==1.0) (1.15.0)\n",
            "Requirement already satisfied: protobuf>=3.6.1 in /usr/local/lib/python3.7/dist-packages (from tensorflow>=1.12.0->nasbench==1.0) (3.17.3)\n",
            "Requirement already satisfied: tensorboard<1.16.0,>=1.15.0 in /tensorflow-1.15.2/python3.7 (from tensorflow>=1.12.0->nasbench==1.0) (1.15.0)\n",
            "Requirement already satisfied: absl-py>=0.7.0 in /usr/local/lib/python3.7/dist-packages (from tensorflow>=1.12.0->nasbench==1.0) (1.0.0)\n",
            "Requirement already satisfied: termcolor>=1.1.0 in /usr/local/lib/python3.7/dist-packages (from tensorflow>=1.12.0->nasbench==1.0) (1.1.0)\n",
            "Requirement already satisfied: google-pasta>=0.1.6 in /usr/local/lib/python3.7/dist-packages (from tensorflow>=1.12.0->nasbench==1.0) (0.2.0)\n",
            "Requirement already satisfied: astor>=0.6.0 in /usr/local/lib/python3.7/dist-packages (from tensorflow>=1.12.0->nasbench==1.0) (0.8.1)\n",
            "Requirement already satisfied: wrapt>=1.11.1 in /usr/local/lib/python3.7/dist-packages (from tensorflow>=1.12.0->nasbench==1.0) (1.14.0)\n",
            "Requirement already satisfied: opt-einsum>=2.3.2 in /usr/local/lib/python3.7/dist-packages (from tensorflow>=1.12.0->nasbench==1.0) (3.3.0)\n",
            "Requirement already satisfied: gast==0.2.2 in /usr/local/lib/python3.7/dist-packages (from tensorflow>=1.12.0->nasbench==1.0) (0.2.2)\n",
            "Requirement already satisfied: tensorflow-estimator==1.15.1 in /tensorflow-1.15.2/python3.7 (from tensorflow>=1.12.0->nasbench==1.0) (1.15.1)\n",
            "Requirement already satisfied: keras-applications>=1.0.8 in /tensorflow-1.15.2/python3.7 (from tensorflow>=1.12.0->nasbench==1.0) (1.0.8)\n",
            "Requirement already satisfied: grpcio>=1.8.6 in /usr/local/lib/python3.7/dist-packages (from tensorflow>=1.12.0->nasbench==1.0) (1.44.0)\n",
            "Requirement already satisfied: keras-preprocessing>=1.0.5 in /usr/local/lib/python3.7/dist-packages (from tensorflow>=1.12.0->nasbench==1.0) (1.1.2)\n",
            "Requirement already satisfied: wheel>=0.26 in /usr/local/lib/python3.7/dist-packages (from tensorflow>=1.12.0->nasbench==1.0) (0.37.1)\n",
            "Requirement already satisfied: h5py in /usr/local/lib/python3.7/dist-packages (from keras-applications>=1.0.8->tensorflow>=1.12.0->nasbench==1.0) (3.1.0)\n",
            "Requirement already satisfied: setuptools>=41.0.0 in /usr/local/lib/python3.7/dist-packages (from tensorboard<1.16.0,>=1.15.0->tensorflow>=1.12.0->nasbench==1.0) (57.4.0)\n",
            "Requirement already satisfied: markdown>=2.6.8 in /usr/local/lib/python3.7/dist-packages (from tensorboard<1.16.0,>=1.15.0->tensorflow>=1.12.0->nasbench==1.0) (3.3.6)\n",
            "Requirement already satisfied: werkzeug>=0.11.15 in /usr/local/lib/python3.7/dist-packages (from tensorboard<1.16.0,>=1.15.0->tensorflow>=1.12.0->nasbench==1.0) (1.0.1)\n",
            "Requirement already satisfied: importlib-metadata>=4.4 in /usr/local/lib/python3.7/dist-packages (from markdown>=2.6.8->tensorboard<1.16.0,>=1.15.0->tensorflow>=1.12.0->nasbench==1.0) (4.11.3)\n",
            "Requirement already satisfied: typing-extensions>=3.6.4 in /usr/local/lib/python3.7/dist-packages (from importlib-metadata>=4.4->markdown>=2.6.8->tensorboard<1.16.0,>=1.15.0->tensorflow>=1.12.0->nasbench==1.0) (4.2.0)\n",
            "Requirement already satisfied: zipp>=0.5 in /usr/local/lib/python3.7/dist-packages (from importlib-metadata>=4.4->markdown>=2.6.8->tensorboard<1.16.0,>=1.15.0->tensorflow>=1.12.0->nasbench==1.0) (3.8.0)\n",
            "Requirement already satisfied: cached-property in /usr/local/lib/python3.7/dist-packages (from h5py->keras-applications>=1.0.8->tensorflow>=1.12.0->nasbench==1.0) (1.5.2)\n",
            "Building wheels for collected packages: nasbench\n",
            "  Building wheel for nasbench (setup.py) ... \u001b[?25l\u001b[?25hdone\n",
            "  Created wheel for nasbench: filename=nasbench-1.0-py3-none-any.whl size=46788 sha256=7e1e8973832ddebf4cab05478ff245dfd37f534754b925463400ce1a9daf43a2\n",
            "  Stored in directory: /tmp/pip-ephem-wheel-cache-qhmr49tk/wheels/64/e0/f5/7eabfceccbb11fce1ab5888a8d31f59fcb43f2b5cfc53ba6d7\n",
            "Successfully built nasbench\n",
            "Installing collected packages: nasbench\n",
            "  Attempting uninstall: nasbench\n",
            "    Found existing installation: nasbench 1.0\n",
            "    Uninstalling nasbench-1.0:\n",
            "      Successfully uninstalled nasbench-1.0\n",
            "Successfully installed nasbench-1.0\n",
            "WARNING:tensorflow:From /usr/local/lib/python3.7/dist-packages/nasbench/lib/training_time.py:130: The name tf.train.SessionRunHook is deprecated. Please use tf.estimator.SessionRunHook instead.\n",
            "\n",
            "WARNING:tensorflow:From /usr/local/lib/python3.7/dist-packages/nasbench/lib/training_time.py:174: The name tf.train.CheckpointSaverListener is deprecated. Please use tf.estimator.CheckpointSaverListener instead.\n",
            "\n",
            "WARNING:tensorflow:From /usr/local/lib/python3.7/dist-packages/nasbench/lib/evaluate.py:30: The name tf.train.NanLossDuringTrainingError is deprecated. Please use tf.estimator.NanLossDuringTrainingError instead.\n",
            "\n",
            "Loading dataset from file... This may take a few minutes...\n",
            "WARNING:tensorflow:From /usr/local/lib/python3.7/dist-packages/nasbench/api.py:146: tf_record_iterator (from tensorflow.python.lib.io.tf_record) is deprecated and will be removed in a future version.\n",
            "Instructions for updating:\n",
            "Use eager execution and: \n",
            "`tf.data.TFRecordDataset(path)`\n",
            "Loaded dataset in 63 seconds\n"
          ]
        }
      ]
    },
    {
      "cell_type": "markdown",
      "source": [
        "导入需要的modular，定义常量"
      ],
      "metadata": {
        "id": "c06F6oZZMYsu"
      }
    },
    {
      "cell_type": "code",
      "metadata": {
        "id": "oFhFRmck7NzM"
      },
      "source": [
        "# Standard imports\n",
        "import copy\n",
        "import numpy as np\n",
        "import matplotlib.pyplot as plt\n",
        "import random\n",
        "\n",
        "# Useful constants\n",
        "INPUT = 'input'\n",
        "OUTPUT = 'output'\n",
        "CONV3X3 = 'conv3x3-bn-relu'        # 3*3卷积层\n",
        "CONV1X1 = 'conv1x1-bn-relu'        # 1*1卷积层\n",
        "MAXPOOL3X3 = 'maxpool3x3'         # 3*3最大池化层\n",
        "NUM_VERTICES = 7\n",
        "MAX_EDGES = 9\n",
        "EDGE_SPOTS = NUM_VERTICES * (NUM_VERTICES - 1) / 2   # Upper triangular matrix\n",
        "OP_SPOTS = NUM_VERTICES - 2   # Input/output vertices are fixed\n",
        "ALLOWED_OPS = [CONV3X3, CONV1X1, MAXPOOL3X3]      # 可选操作集合\n",
        "ALLOWED_EDGES = [0, 1]   # Binary adjacency matrix"
      ],
      "execution_count": 6,
      "outputs": []
    },
    {
      "cell_type": "markdown",
      "source": [
        "实现随机选择网络和网络的演化"
      ],
      "metadata": {
        "id": "FtWerNzLO2N9"
      }
    },
    {
      "cell_type": "code",
      "source": [
        "\"\"\"\n",
        "随机选择网络结构\n",
        "\"\"\"\n",
        "def random_spec():\n",
        "  \"\"\"Returns a random valid spec.\"\"\"\n",
        "  while True:\n",
        "    matrix = np.random.choice(ALLOWED_EDGES, size=(NUM_VERTICES, NUM_VERTICES))\n",
        "    matrix = np.triu(matrix, 1)\n",
        "    ops = np.random.choice(ALLOWED_OPS, size=(NUM_VERTICES)).tolist()\n",
        "    ops[0] = INPUT\n",
        "    ops[-1] = OUTPUT\n",
        "    spec = api.ModelSpec(matrix=matrix, ops=ops)\n",
        "    if nasbench.is_valid(spec):\n",
        "      return spec\n",
        "\n",
        "\"\"\"\n",
        "演化操作\n",
        "\"\"\"\n",
        "def mutate_spec(old_spec, mutation_rate=1.0):\n",
        "  \"\"\"Computes a valid mutated spec from the old_spec.\"\"\"\n",
        "  while True:\n",
        "    new_matrix = copy.deepcopy(old_spec.original_matrix)\n",
        "    new_ops = copy.deepcopy(old_spec.original_ops)\n",
        "\n",
        "    # In expectation, V edges flipped (note that most end up being pruned).\n",
        "    edge_mutation_prob = mutation_rate / NUM_VERTICES\n",
        "    for src in range(0, NUM_VERTICES - 1):\n",
        "      for dst in range(src + 1, NUM_VERTICES):\n",
        "        if random.random() < edge_mutation_prob:\n",
        "          new_matrix[src, dst] = 1 - new_matrix[src, dst]\n",
        "          \n",
        "    # In expectation, one op is resampled.\n",
        "    op_mutation_prob = mutation_rate / OP_SPOTS\n",
        "    for ind in range(1, NUM_VERTICES - 1):\n",
        "      if random.random() < op_mutation_prob:\n",
        "        available = [o for o in nasbench.config['available_ops'] if o != new_ops[ind]]\n",
        "        new_ops[ind] = random.choice(available)\n",
        "        \n",
        "    new_spec = api.ModelSpec(new_matrix, new_ops)\n",
        "    if nasbench.is_valid(new_spec):\n",
        "      return new_spec"
      ],
      "metadata": {
        "id": "DLYs4I8xXOTa"
      },
      "execution_count": 7,
      "outputs": []
    },
    {
      "metadata": {
        "id": "d0uYu1WisqLa"
      },
      "cell_type": "code",
      "source": [
        "# 定义一个model类\n",
        "class Model(object):\n",
        "  \"\"\"A class representing a model.\n",
        "  \n",
        "  Attributes:\n",
        "    arch: the architecture \n",
        "    accuracy: the simulated validation accuracy. \n",
        "  \"\"\"\n",
        "  def __init__(self):\n",
        "    self.arch = None\n",
        "    self.accuracy = None\n",
        "    self.test = None\n",
        "\n",
        "# 训练并评估网络结构，返回验证集和测试集上的准确率\n",
        "def train_and_eval(arch):\n",
        "  \"\"\"Simulates training and evaluation.\n",
        "  \n",
        "  Computes the simulated validation accuracy of the given architecture. See\n",
        "  the `accuracy` attribute in `Model` class for details.\n",
        "  \n",
        "  \"\"\"\n",
        "  data = nasbench.query(arch)\n",
        "  return data['validation_accuracy'], data['test_accuracy']"
      ],
      "execution_count": 8,
      "outputs": []
    },
    {
      "cell_type": "markdown",
      "source": [
        "实现遗传算法"
      ],
      "metadata": {
        "id": "JNFOloz2PjL2"
      }
    },
    {
      "metadata": {
        "id": "6dr709ay2ahZ"
      },
      "cell_type": "code",
      "source": [
        "import collections\n",
        "import random\n",
        "\n",
        "def regularized_evolution(cycles, population_size, sample_size):\n",
        "  \"\"\"Algorithm for regularized evolution (i.e. aging evolution).\n",
        "  \n",
        "  Args:\n",
        "    cycles: the number of cycles the algorithm should run for.\n",
        "    population_size: the number of individuals to keep in the population.\n",
        "    sample_size: the number of individuals that should participate in each\n",
        "        tournament.\n",
        "\n",
        "  Returns:\n",
        "    history: a list of `Model` instances, representing all the models computed\n",
        "        during the evolution experiment.\n",
        "  \"\"\"\n",
        "  population = collections.deque()         \n",
        "  history = []  # Not used by the algorithm, only used to report results.\n",
        "\n",
        "  # Initialize the population with random models.\n",
        "  while len(population) < population_size:\n",
        "    model = Model()\n",
        "    model.arch = random_spec()\n",
        "    model.accuracy, model.test = train_and_eval(model.arch)\n",
        "    population.append(model)\n",
        "    history.append(model)\n",
        "\n",
        "  # Carry out evolution in cycles. Each cycle produces a model and removes\n",
        "  # another.\n",
        "  while len(history) < cycles:\n",
        "    # Sample randomly chosen models from the current population.\n",
        "    sample = []\n",
        "    while len(sample) < sample_size:\n",
        "      # Inefficient, but written this way for clarity. In the case of neural\n",
        "      # nets, the efficiency of this line is irrelevant because training neural\n",
        "      # nets is the rate-determining step.\n",
        "      candidate = random.choice(list(population))\n",
        "      sample.append(candidate)\n",
        "\n",
        "    # The parent is the best model in the sample.\n",
        "    parent = max(sample, key=lambda i: i.accuracy)\n",
        "\n",
        "    # Create the child model and store it.\n",
        "    child = Model()\n",
        "    child.arch = mutate_spec(parent.arch)\n",
        "    child.accuracy, child.test = train_and_eval(child.arch)\n",
        "    population.append(child)\n",
        "    history.append(child)\n",
        "\n",
        "    # Remove the oldest model.\n",
        "    population.popleft()\n",
        "\n",
        "  return history"
      ],
      "execution_count": 3,
      "outputs": []
    },
    {
      "cell_type": "markdown",
      "source": [
        "cycles设为10000进行遗传算法"
      ],
      "metadata": {
        "id": "rSep2aUAWC_e"
      }
    },
    {
      "metadata": {
        "id": "1izV1iKqFSgS"
      },
      "cell_type": "code",
      "source": [
        "from matplotlib.pyplot import MultipleLocator\n",
        "\n",
        "xvalues = []\n",
        "validation_values = []\n",
        "test_values = []\n",
        "temp = []       # 保存当前搜索的所有model\n",
        "history = regularized_evolution(cycles=10000, population_size=100, sample_size=50)\n",
        "for i in range(10001):\n",
        "  temp = history[0:i+1]\n",
        "  high = max(temp, key=lambda i: i.accuracy)\n",
        "  xvalues.append(i)\n",
        "  validation_values.append(high.accuracy)\n",
        "  test_values.append(high.test)"
      ],
      "execution_count": 20,
      "outputs": []
    },
    {
      "cell_type": "code",
      "source": [
        "plt.plot(xvalues, validation_values, color='red', label='validation')\n",
        "plt.plot(xvalues, test_values, color='blue', label='test')\n",
        "plt.xlabel('Model searched')\n",
        "plt.ylabel('accuracy')\n",
        "x_major_locator=MultipleLocator(2000)\n",
        "y_major_locator=MultipleLocator(0.01)\n",
        "ax=plt.gca()\n",
        "ax.xaxis.set_major_locator(x_major_locator)\n",
        "ax.yaxis.set_major_locator(y_major_locator)\n",
        "plt.ylim(0.93, 0.96)\n",
        "plt.show()"
      ],
      "metadata": {
        "colab": {
          "base_uri": "https://localhost:8080/",
          "height": 283
        },
        "id": "D50lOsM5mGez",
        "outputId": "f5015c87-75aa-4afa-b90c-6208bfd9d032"
      },
      "execution_count": 25,
      "outputs": [
        {
          "output_type": "display_data",
          "data": {
            "text/plain": [
              "<Figure size 432x288 with 1 Axes>"
            ],
            "image/png": "[encoded data removed]"
          },
          "metadata": {
            "needs_background": "light"
          }
        }
      ]
    },
    {
      "cell_type": "markdown",
      "source": [
        "循环执行遗传算法，观察不同初始种群和cycles下的差异"
      ],
      "metadata": {
        "id": "zyEpQRZ4WMdd"
      }
    },
    {
      "cell_type": "code",
      "source": [
        "x = []\n",
        "validation = []\n",
        "test = []\n",
        "for i in range(1,10001,100):\n",
        "  res = regularized_evolution(cycles=i, population_size=100, sample_size=50)\n",
        "  x.append(len(res))\n",
        "  high = max(res, key=lambda i: i.accuracy)\n",
        "  validation.append(high.accuracy)\n",
        "  test.append(high.test)"
      ],
      "metadata": {
        "id": "TBGwFoEPV_Dm"
      },
      "execution_count": 9,
      "outputs": []
    },
    {
      "cell_type": "code",
      "source": [
        "from matplotlib.pyplot import MultipleLocator\n",
        "plt.plot(x, validation, color='red', label='validation')\n",
        "plt.plot(x, test, color='blue', label='test')\n",
        "plt.xlabel('Model searched')\n",
        "plt.ylabel('accuracy')\n",
        "x_major_locator=MultipleLocator(2000)\n",
        "y_major_locator=MultipleLocator(0.01)\n",
        "ax=plt.gca()\n",
        "ax.xaxis.set_major_locator(x_major_locator)\n",
        "ax.yaxis.set_major_locator(y_major_locator)\n",
        "plt.ylim(0.93, 0.96)\n",
        "plt.show()"
      ],
      "metadata": {
        "colab": {
          "base_uri": "https://localhost:8080/",
          "height": 283
        },
        "id": "DsDX76cjXbps",
        "outputId": "7748a904-7afd-4fca-d4d3-322636d0f5ca"
      },
      "execution_count": 11,
      "outputs": [
        {
          "output_type": "display_data",
          "data": {
            "text/plain": [
              "<Figure size 432x288 with 1 Axes>"
            ],
            "image/png": "[encoded data removed]"
          },
          "metadata": {
            "needs_background": "light"
          }
        }
      ]
    }
  ]
}